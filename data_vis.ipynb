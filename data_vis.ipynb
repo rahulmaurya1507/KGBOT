{
 "cells": [
  {
   "cell_type": "code",
   "execution_count": 2,
   "metadata": {},
   "outputs": [],
   "source": [
    "import pandas as pd\n",
    "\n",
    "pd.set_option('display.max_columns', None)  # Show all columns\n",
    "pd.set_option('display.max_rows', None)     # Show all rows\n",
    "pd.set_option('display.max_colwidth', None) # Prevent truncating column contents"
   ]
  },
  {
   "cell_type": "code",
   "execution_count": 3,
   "metadata": {},
   "outputs": [],
   "source": [
    "abod = pd.read_parquet('data/ot_files/associationByOverallDirect/')\n",
    "aboid = pd.read_parquet('data/ot_files/associationByOverallIndirect/')\n",
    "\n",
    "abdsd = pd.read_parquet('data/ot_files/associationByDatasourceDirect')\n",
    "abdsid = pd.read_parquet('data/ot_files/associationByDatasourceIndirect')\n",
    "\n",
    "abdtd = pd.read_parquet('data/ot_files/associationByDatatypeDirect')\n",
    "abdtid = pd.read_parquet('data/ot_files/associationByDatatypeIndirect')\n"
   ]
  },
  {
   "cell_type": "code",
   "execution_count": 8,
   "metadata": {},
   "outputs": [
    {
     "name": "stdout",
     "output_type": "stream",
     "text": [
      "Index(['diseaseId', 'targetId', 'score', 'evidenceCount'], dtype='object')\n",
      "Index(['datatypeId', 'datasourceId', 'diseaseId', 'targetId', 'score',\n",
      "       'evidenceCount'],\n",
      "      dtype='object')\n",
      "Index(['diseaseId', 'targetId', 'datatypeId', 'score', 'evidenceCount'], dtype='object')\n"
     ]
    }
   ],
   "source": [
    "# columns of abod, abdsd, abdtd\n",
    "print(abod.columns)\n",
    "print(abdsd.columns)\n",
    "print(abdtd.columns)"
   ]
  },
  {
   "cell_type": "code",
   "execution_count": 4,
   "metadata": {},
   "outputs": [
    {
     "name": "stdout",
     "output_type": "stream",
     "text": [
      "abod.shape:  (2725301, 4)\n",
      "aboid.shape:  (8154659, 4)\n",
      "abdsd:  (2882629, 6)\n",
      "abdsid:  (9933812, 6)\n",
      "abdtd:  (2854155, 5)\n",
      "abdtid:  (9592346, 5)\n"
     ]
    }
   ],
   "source": [
    "# Shape of all the dataframes andcolumn names\n",
    "print('abod.shape: ', abod.shape)\n",
    "print('aboid.shape: ', aboid.shape)\n",
    "\n",
    "print('abdsd: ', abdsd.shape)\n",
    "print('abdsid: ', abdsid.shape)\n",
    "\n",
    "print('abdtd: ', abdtd.shape)\n",
    "print('abdtid: ', abdtid.shape)\n"
   ]
  },
  {
   "cell_type": "code",
   "execution_count": 5,
   "metadata": {},
   "outputs": [
    {
     "name": "stdout",
     "output_type": "stream",
     "text": [
      "abod:  30315 30315\n",
      "aboid:  17701 19087\n",
      "abdsd:  30315 30315\n",
      "abdsid:  17701 19087\n",
      "abdtd:  30315 30315\n",
      "abdtid:  17701 19087\n"
     ]
    }
   ],
   "source": [
    "# Unique entries in target and disease columns of all the DF\n",
    "print('abod: ', len(abod.targetId.unique()), len(aboid.targetId.unique()))\n",
    "print('aboid: ', len(abod.diseaseId.unique()), len(aboid.diseaseId.unique()))\n",
    "\n",
    "print('abdsd: ', len(abdsd.targetId.unique()), len(abdsid.targetId.unique()))\n",
    "print('abdsid: ', len(abdsd.diseaseId.unique()), len(abdsid.diseaseId.unique()))\n",
    "\n",
    "print('abdtd: ', len(abdtd.targetId.unique()), len(abdtid.targetId.unique()))\n",
    "print('abdtid: ', len(abdtd.diseaseId.unique()), len(abdtid.diseaseId.unique()))\n"
   ]
  },
  {
   "cell_type": "code",
   "execution_count": 6,
   "metadata": {},
   "outputs": [
    {
     "name": "stdout",
     "output_type": "stream",
     "text": [
      "comparision_abod:  (537676, 4)\n",
      "comparison_aboid:  (5967034, 4)\n",
      "comparison_abdsd:  (513256, 6)\n",
      "comparison_abdsid:  (7564439, 6)\n",
      "comparison_abdtd:  (515143, 5)\n",
      "comparison_abdtid:  (7253334, 5)\n"
     ]
    }
   ],
   "source": [
    "comparision_abod = pd.concat([abod, aboid, aboid]).drop_duplicates(keep=False)\n",
    "print('comparision_abod: ', comparision_abod.shape)\n",
    "comparison_aboid = pd.concat([aboid, abod, abod]).drop_duplicates(keep=False)\n",
    "print('comparison_aboid: ', comparison_aboid.shape)\n",
    "\n",
    "comparison_abdsd = pd.concat([abdsd, abdsid, abdsid]).drop_duplicates(keep=False)\n",
    "print('comparison_abdsd: ', comparison_abdsd.shape)\n",
    "comparison_abdsid = pd.concat([abdsid, abdsd, abdsd]).drop_duplicates(keep=False)\n",
    "print('comparison_abdsid: ', comparison_abdsid.shape)\n",
    "\n",
    "comparison_abdtd = pd.concat([abdtd, abdtid, abdtid]).drop_duplicates(keep=False)\n",
    "print('comparison_abdtd: ', comparison_abdtd.shape)\n",
    "comparison_abdtid = pd.concat([abdtid, abdtd, abdtd]).drop_duplicates(keep=False)\n",
    "print('comparison_abdtid: ', comparison_abdtid.shape)"
   ]
  },
  {
   "cell_type": "code",
   "execution_count": 7,
   "metadata": {},
   "outputs": [
    {
     "name": "stdout",
     "output_type": "stream",
     "text": [
      "abod_combined:  (6504710, 4)\n",
      "abdsd_combined:  (8077695, 6)\n",
      "abdtd_combined:  (7768477, 5)\n"
     ]
    }
   ],
   "source": [
    "abod_combined = pd.concat([abod, aboid]).drop_duplicates(keep=False)\n",
    "print('abod_combined: ', abod_combined.shape)\n",
    "\n",
    "abdsd_combined = pd.concat([abdsd, abdsid]).drop_duplicates(keep=False)\n",
    "print('abdsd_combined: ', abdsd_combined.shape)\n",
    "\n",
    "abdtd_combined = pd.concat([abdtd, abdtid]).drop_duplicates(keep=False)\n",
    "print('abdtd_combined: ', abdtd_combined.shape)\n",
    "\n",
    "\n",
    "# abod.shape:  (2725301, 4)\n",
    "# aboid.shape:  (8154659, 4)\n",
    "# abdsd:  (2882629, 6)\n",
    "# abdsid:  (9933812, 6)\n",
    "# abdtd:  (2854155, 5)\n",
    "# abdtid:  (9592346, 5)"
   ]
  },
  {
   "cell_type": "code",
   "execution_count": 9,
   "metadata": {},
   "outputs": [],
   "source": [
    "abod_abdsd = pd.concat([abod_combined, abdsd_combined, abdsd_combined]).drop_duplicates(subset=['diseaseId', 'targetId', 'score', 'evidenceCount'], keep=False)\n",
    "abdsd_abod = pd.concat([abdsd_combined, abod_combined, abod_combined]).drop_duplicates(subset=['diseaseId', 'targetId', 'score', 'evidenceCount'], keep=False)\n",
    "\n",
    "abod_abdtd = pd.concat([abod_combined, abdtd_combined, abdtd_combined]).drop_duplicates(subset=['diseaseId', 'targetId', 'score', 'evidenceCount'], keep=False)\n",
    "abdtd_abod = pd.concat([abdtd_combined, abod_combined, abod_combined]).drop_duplicates(subset=['diseaseId', 'targetId', 'score', 'evidenceCount'], keep=False)\n",
    "\n",
    "absd_abdtd = pd.concat([abdsd_combined, abdtd_combined, abdtd_combined]).drop_duplicates(subset=['diseaseId', 'targetId', 'score', 'evidenceCount'], keep=False)\n",
    "abdtd_absd = pd.concat([abdtd_combined, abdsd_combined, abdsd_combined]).drop_duplicates(subset=['diseaseId', 'targetId', 'score', 'evidenceCount'], keep=False)"
   ]
  },
  {
   "cell_type": "code",
   "execution_count": 14,
   "metadata": {},
   "outputs": [
    {
     "data": {
      "text/plain": [
       "((6504710, 6),\n",
       " (7967753, 6),\n",
       " (6504710, 5),\n",
       " (7766963, 5),\n",
       " (348553, 6),\n",
       " (145169, 6))"
      ]
     },
     "execution_count": 14,
     "metadata": {},
     "output_type": "execute_result"
    }
   ],
   "source": [
    "abod_abdsd.shape, abdsd_abod.shape, abod_abdtd.shape, abdtd_abod.shape, absd_abdtd.shape, abdtd_absd.shape"
   ]
  },
  {
   "cell_type": "code",
   "execution_count": 13,
   "metadata": {},
   "outputs": [
    {
     "data": {
      "text/html": [
       "<div>\n",
       "<style scoped>\n",
       "    .dataframe tbody tr th:only-of-type {\n",
       "        vertical-align: middle;\n",
       "    }\n",
       "\n",
       "    .dataframe tbody tr th {\n",
       "        vertical-align: top;\n",
       "    }\n",
       "\n",
       "    .dataframe thead th {\n",
       "        text-align: right;\n",
       "    }\n",
       "</style>\n",
       "<table border=\"1\" class=\"dataframe\">\n",
       "  <thead>\n",
       "    <tr style=\"text-align: right;\">\n",
       "      <th></th>\n",
       "      <th>diseaseId</th>\n",
       "      <th>targetId</th>\n",
       "      <th>score</th>\n",
       "      <th>evidenceCount</th>\n",
       "      <th>datatypeId</th>\n",
       "      <th>datasourceId</th>\n",
       "    </tr>\n",
       "  </thead>\n",
       "  <tbody>\n",
       "    <tr>\n",
       "      <th>1</th>\n",
       "      <td>DOID_0050890</td>\n",
       "      <td>ENSG00000005381</td>\n",
       "      <td>0.002217</td>\n",
       "      <td>1</td>\n",
       "      <td>NaN</td>\n",
       "      <td>NaN</td>\n",
       "    </tr>\n",
       "    <tr>\n",
       "      <th>2</th>\n",
       "      <td>DOID_0050890</td>\n",
       "      <td>ENSG00000006128</td>\n",
       "      <td>0.002217</td>\n",
       "      <td>1</td>\n",
       "      <td>NaN</td>\n",
       "      <td>NaN</td>\n",
       "    </tr>\n",
       "    <tr>\n",
       "      <th>3</th>\n",
       "      <td>DOID_0050890</td>\n",
       "      <td>ENSG00000006210</td>\n",
       "      <td>0.004414</td>\n",
       "      <td>3</td>\n",
       "      <td>NaN</td>\n",
       "      <td>NaN</td>\n",
       "    </tr>\n",
       "    <tr>\n",
       "      <th>5</th>\n",
       "      <td>DOID_0050890</td>\n",
       "      <td>ENSG00000007171</td>\n",
       "      <td>0.009979</td>\n",
       "      <td>2</td>\n",
       "      <td>NaN</td>\n",
       "      <td>NaN</td>\n",
       "    </tr>\n",
       "    <tr>\n",
       "      <th>7</th>\n",
       "      <td>DOID_0050890</td>\n",
       "      <td>ENSG00000008056</td>\n",
       "      <td>0.006652</td>\n",
       "      <td>1</td>\n",
       "      <td>NaN</td>\n",
       "      <td>NaN</td>\n",
       "    </tr>\n",
       "  </tbody>\n",
       "</table>\n",
       "</div>"
      ],
      "text/plain": [
       "      diseaseId         targetId     score  evidenceCount datatypeId   \n",
       "1  DOID_0050890  ENSG00000005381  0.002217              1        NaN  \\\n",
       "2  DOID_0050890  ENSG00000006128  0.002217              1        NaN   \n",
       "3  DOID_0050890  ENSG00000006210  0.004414              3        NaN   \n",
       "5  DOID_0050890  ENSG00000007171  0.009979              2        NaN   \n",
       "7  DOID_0050890  ENSG00000008056  0.006652              1        NaN   \n",
       "\n",
       "  datasourceId  \n",
       "1          NaN  \n",
       "2          NaN  \n",
       "3          NaN  \n",
       "5          NaN  \n",
       "7          NaN  "
      ]
     },
     "execution_count": 13,
     "metadata": {},
     "output_type": "execute_result"
    }
   ],
   "source": [
    "abod_abdsd.head()"
   ]
  },
  {
   "cell_type": "code",
   "execution_count": null,
   "metadata": {},
   "outputs": [],
   "source": []
  }
 ],
 "metadata": {
  "kernelspec": {
   "display_name": ".venv",
   "language": "python",
   "name": "python3"
  },
  "language_info": {
   "codemirror_mode": {
    "name": "ipython",
    "version": 3
   },
   "file_extension": ".py",
   "mimetype": "text/x-python",
   "name": "python",
   "nbconvert_exporter": "python",
   "pygments_lexer": "ipython3",
   "version": "3.12.3"
  }
 },
 "nbformat": 4,
 "nbformat_minor": 2
}
